{
 "cells": [
  {
   "cell_type": "code",
   "execution_count": 1,
   "metadata": {},
   "outputs": [],
   "source": [
    "import pandas as pd\n",
    "from sklearn.model_selection import train_test_split\n",
    "from sklearn.feature_extraction.text import CountVectorizer, TfidfVectorizer\n",
    "from sklearn.naive_bayes import MultinomialNB\n",
    "from sklearn.linear_model import LogisticRegression, Perceptron\n",
    "from sklearn.ensemble import RandomForestClassifier\n",
    "from sklearn.svm import SVC\n",
    "from sklearn.metrics import accuracy_score, precision_score, recall_score, f1_score\n",
    "\n",
    "data = pd.read_csv(\"Q2Dataset.csv\",encoding='latin1')\n",
    "\n",
    "\n",
    "data.dropna(inplace=True,axis=1)\n",
    "\n",
    "X_train, X_test, y_train, y_test = train_test_split(data['text'], data['sentiment'], test_size=0.2, random_state=42)\n"
   ]
  },
  {
   "cell_type": "code",
   "execution_count": 2,
   "metadata": {},
   "outputs": [],
   "source": [
    "def train_and_evaluate_classifier(classifier, X_train, y_train, X_test, y_test, vectorizer):\n",
    "    X_train_features = vectorizer.fit_transform(X_train)\n",
    "    X_test_features = vectorizer.transform(X_test)\n",
    "\n",
    "    classifier.fit(X_train_features, y_train)\n",
    "\n",
    "    y_pred = classifier.predict(X_test_features)\n",
    "    \n",
    "    accuracy = accuracy_score(y_test, y_pred)\n",
    "    precision = precision_score(y_test, y_pred, average='macro')\n",
    "    recall = recall_score(y_test, y_pred, average='macro')\n",
    "    f1 = f1_score(y_test, y_pred, average='macro')\n",
    "\n",
    "    return accuracy, precision, recall, f1\n",
    "\n",
    "def evaluate_classifiers(classifiers, X_train, y_train, X_test, y_test, vectorizers):\n",
    "    results = []\n",
    "    for classifier in classifiers:\n",
    "        classifier_results = []\n",
    "        for vectorizer in vectorizers:\n",
    "            accuracy, precision, recall, f1 = train_and_evaluate_classifier(classifier, X_train, y_train, X_test, y_test, vectorizer)\n",
    "            classifier_results.append((accuracy, precision, recall, f1))\n",
    "        results.append(classifier_results)\n",
    "    return results\n"
   ]
  },
  {
   "cell_type": "code",
   "execution_count": 3,
   "metadata": {},
   "outputs": [],
   "source": [
    "classifiers = [\n",
    "    MultinomialNB(),\n",
    "    LogisticRegression(max_iter=1000),\n",
    "    RandomForestClassifier(),\n",
    "    SVC(),\n",
    "    Perceptron()\n",
    "]\n",
    "\n",
    "vectorizers = [\n",
    "    CountVectorizer(),\n",
    "    CountVectorizer(ngram_range=(1, 2)),\n",
    "    CountVectorizer(ngram_range=(1, 3)),\n",
    "    TfidfVectorizer()\n",
    "]\n"
   ]
  },
  {
   "cell_type": "code",
   "execution_count": 6,
   "metadata": {},
   "outputs": [
    {
     "name": "stderr",
     "output_type": "stream",
     "text": [
      "C:\\Users\\DURRANI\\AppData\\Roaming\\Python\\Python311\\site-packages\\sklearn\\metrics\\_classification.py:1469: UndefinedMetricWarning: Precision is ill-defined and being set to 0.0 in labels with no predicted samples. Use `zero_division` parameter to control this behavior.\n",
      "  _warn_prf(average, modifier, msg_start, len(result))\n",
      "C:\\Users\\DURRANI\\AppData\\Roaming\\Python\\Python311\\site-packages\\sklearn\\metrics\\_classification.py:1469: UndefinedMetricWarning: Precision is ill-defined and being set to 0.0 in labels with no predicted samples. Use `zero_division` parameter to control this behavior.\n",
      "  _warn_prf(average, modifier, msg_start, len(result))\n",
      "C:\\Users\\DURRANI\\AppData\\Roaming\\Python\\Python311\\site-packages\\sklearn\\metrics\\_classification.py:1469: UndefinedMetricWarning: Precision is ill-defined and being set to 0.0 in labels with no predicted samples. Use `zero_division` parameter to control this behavior.\n",
      "  _warn_prf(average, modifier, msg_start, len(result))\n",
      "C:\\Users\\DURRANI\\AppData\\Roaming\\Python\\Python311\\site-packages\\sklearn\\metrics\\_classification.py:1469: UndefinedMetricWarning: Precision is ill-defined and being set to 0.0 in labels with no predicted samples. Use `zero_division` parameter to control this behavior.\n",
      "  _warn_prf(average, modifier, msg_start, len(result))\n",
      "C:\\Users\\DURRANI\\AppData\\Roaming\\Python\\Python311\\site-packages\\sklearn\\metrics\\_classification.py:1469: UndefinedMetricWarning: Precision is ill-defined and being set to 0.0 in labels with no predicted samples. Use `zero_division` parameter to control this behavior.\n",
      "  _warn_prf(average, modifier, msg_start, len(result))\n",
      "C:\\Users\\DURRANI\\AppData\\Roaming\\Python\\Python311\\site-packages\\sklearn\\metrics\\_classification.py:1469: UndefinedMetricWarning: Precision is ill-defined and being set to 0.0 in labels with no predicted samples. Use `zero_division` parameter to control this behavior.\n",
      "  _warn_prf(average, modifier, msg_start, len(result))\n",
      "C:\\Users\\DURRANI\\AppData\\Roaming\\Python\\Python311\\site-packages\\sklearn\\metrics\\_classification.py:1469: UndefinedMetricWarning: Precision is ill-defined and being set to 0.0 in labels with no predicted samples. Use `zero_division` parameter to control this behavior.\n",
      "  _warn_prf(average, modifier, msg_start, len(result))\n",
      "C:\\Users\\DURRANI\\AppData\\Roaming\\Python\\Python311\\site-packages\\sklearn\\metrics\\_classification.py:1469: UndefinedMetricWarning: Precision is ill-defined and being set to 0.0 in labels with no predicted samples. Use `zero_division` parameter to control this behavior.\n",
      "  _warn_prf(average, modifier, msg_start, len(result))\n",
      "C:\\Users\\DURRANI\\AppData\\Roaming\\Python\\Python311\\site-packages\\sklearn\\metrics\\_classification.py:1469: UndefinedMetricWarning: Precision is ill-defined and being set to 0.0 in labels with no predicted samples. Use `zero_division` parameter to control this behavior.\n",
      "  _warn_prf(average, modifier, msg_start, len(result))\n",
      "C:\\Users\\DURRANI\\AppData\\Roaming\\Python\\Python311\\site-packages\\sklearn\\metrics\\_classification.py:1469: UndefinedMetricWarning: Precision is ill-defined and being set to 0.0 in labels with no predicted samples. Use `zero_division` parameter to control this behavior.\n",
      "  _warn_prf(average, modifier, msg_start, len(result))\n",
      "C:\\Users\\DURRANI\\AppData\\Roaming\\Python\\Python311\\site-packages\\sklearn\\metrics\\_classification.py:1469: UndefinedMetricWarning: Precision is ill-defined and being set to 0.0 in labels with no predicted samples. Use `zero_division` parameter to control this behavior.\n",
      "  _warn_prf(average, modifier, msg_start, len(result))\n",
      "C:\\Users\\DURRANI\\AppData\\Roaming\\Python\\Python311\\site-packages\\sklearn\\metrics\\_classification.py:1469: UndefinedMetricWarning: Precision is ill-defined and being set to 0.0 in labels with no predicted samples. Use `zero_division` parameter to control this behavior.\n",
      "  _warn_prf(average, modifier, msg_start, len(result))\n",
      "C:\\Users\\DURRANI\\AppData\\Roaming\\Python\\Python311\\site-packages\\sklearn\\metrics\\_classification.py:1469: UndefinedMetricWarning: Precision is ill-defined and being set to 0.0 in labels with no predicted samples. Use `zero_division` parameter to control this behavior.\n",
      "  _warn_prf(average, modifier, msg_start, len(result))\n",
      "C:\\Users\\DURRANI\\AppData\\Roaming\\Python\\Python311\\site-packages\\sklearn\\metrics\\_classification.py:1469: UndefinedMetricWarning: Precision is ill-defined and being set to 0.0 in labels with no predicted samples. Use `zero_division` parameter to control this behavior.\n",
      "  _warn_prf(average, modifier, msg_start, len(result))\n",
      "C:\\Users\\DURRANI\\AppData\\Roaming\\Python\\Python311\\site-packages\\sklearn\\metrics\\_classification.py:1469: UndefinedMetricWarning: Precision is ill-defined and being set to 0.0 in labels with no predicted samples. Use `zero_division` parameter to control this behavior.\n",
      "  _warn_prf(average, modifier, msg_start, len(result))\n",
      "C:\\Users\\DURRANI\\AppData\\Roaming\\Python\\Python311\\site-packages\\sklearn\\metrics\\_classification.py:1469: UndefinedMetricWarning: Precision is ill-defined and being set to 0.0 in labels with no predicted samples. Use `zero_division` parameter to control this behavior.\n",
      "  _warn_prf(average, modifier, msg_start, len(result))\n"
     ]
    },
    {
     "name": "stdout",
     "output_type": "stream",
     "text": [
      "Classifier\t\tVectorizer\t\tAccuracy\tPrecision\tRecall\t\tF1 Score\n",
      "-------------------------------------------------------------------------\n",
      "MultinomialNB|\tCountVectorizer|\t\t0.7262|\t\t0.5256|\t\t0.4297|\t\t0.4258\n",
      "MultinomialNB|\tCountVectorizer|\t\t0.7416|\t\t0.5663|\t\t0.4345|\t\t0.4338\n",
      "MultinomialNB|\tCountVectorizer|\t\t0.7429|\t\t0.5229|\t\t0.4347|\t\t0.4337\n",
      "MultinomialNB|\tTfidfVectorizer|\t\t0.7519|\t\t0.6324|\t\t0.4230|\t\t0.4225\n",
      "LogisticRegression|\tCountVectorizer|\t\t0.7481|\t\t0.5099|\t\t0.4519|\t\t0.4626\n",
      "LogisticRegression|\tCountVectorizer|\t\t0.7468|\t\t0.5285|\t\t0.4484|\t\t0.4599\n",
      "LogisticRegression|\tCountVectorizer|\t\t0.7391|\t\t0.5335|\t\t0.4403|\t\t0.4517\n",
      "LogisticRegression|\tTfidfVectorizer|\t\t0.7404|\t\t0.5448|\t\t0.4348|\t\t0.4447\n",
      "RandomForestClassifier|\tCountVectorizer|\t\t0.7494|\t\t0.5853|\t\t0.4404|\t\t0.4505\n",
      "RandomForestClassifier|\tCountVectorizer|\t\t0.7378|\t\t0.5650|\t\t0.4279|\t\t0.4381\n",
      "RandomForestClassifier|\tCountVectorizer|\t\t0.7314|\t\t0.5686|\t\t0.4258|\t\t0.4316\n",
      "RandomForestClassifier|\tTfidfVectorizer|\t\t0.7416|\t\t0.5410|\t\t0.4369|\t\t0.4447\n",
      "SVC|\tCountVectorizer|\t\t0.7352|\t\t0.5864|\t\t0.4189|\t\t0.4220\n",
      "SVC|\tCountVectorizer|\t\t0.7262|\t\t0.5813|\t\t0.4134|\t\t0.4166\n",
      "SVC|\tCountVectorizer|\t\t0.7185|\t\t0.5766|\t\t0.4085|\t\t0.4117\n",
      "SVC|\tTfidfVectorizer|\t\t0.7506|\t\t0.5879|\t\t0.4402|\t\t0.4512\n",
      "Perceptron|\tCountVectorizer|\t\t0.7339|\t\t0.5452|\t\t0.4636|\t\t0.4856\n",
      "Perceptron|\tCountVectorizer|\t\t0.7198|\t\t0.4964|\t\t0.4413|\t\t0.4557\n",
      "Perceptron|\tCountVectorizer|\t\t0.7288|\t\t0.5242|\t\t0.4316|\t\t0.4446\n",
      "Perceptron|\tTfidfVectorizer|\t\t0.7005|\t\t0.5064|\t\t0.4732|\t\t0.4801\n"
     ]
    }
   ],
   "source": [
    "results = evaluate_classifiers(classifiers, X_train, y_train, X_test, y_test, vectorizers)\n",
    "\n",
    "print(\"Classifier\\t\\tVectorizer\\t\\tAccuracy\\tPrecision\\tRecall\\t\\tF1 Score\")\n",
    "print(\"-------------------------------------------------------------------------\")\n",
    "for i, classifier in enumerate(classifiers):\n",
    "    for j, vectorizer in enumerate(vectorizers):\n",
    "        accuracy, precision, recall, f1 = results[i][j]\n",
    "        print(f\"{classifier.__class__.__name__}|\\t{vectorizer.__class__.__name__}|\\t\\t{accuracy:.4f}|\\t\\t{precision:.4f}|\\t\\t{recall:.4f}|\\t\\t{f1:.4f}\")\n"
   ]
  },
  {
   "cell_type": "code",
   "execution_count": null,
   "metadata": {},
   "outputs": [],
   "source": []
  }
 ],
 "metadata": {
  "kernelspec": {
   "display_name": "Python 3",
   "language": "python",
   "name": "python3"
  },
  "language_info": {
   "codemirror_mode": {
    "name": "ipython",
    "version": 3
   },
   "file_extension": ".py",
   "mimetype": "text/x-python",
   "name": "python",
   "nbconvert_exporter": "python",
   "pygments_lexer": "ipython3",
   "version": "3.11.4"
  }
 },
 "nbformat": 4,
 "nbformat_minor": 2
}
