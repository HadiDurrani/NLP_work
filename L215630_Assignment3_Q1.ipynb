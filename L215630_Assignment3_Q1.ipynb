{
 "cells": [
  {
   "cell_type": "code",
   "execution_count": 1,
   "metadata": {},
   "outputs": [
    {
     "data": {
      "text/html": [
       "<div>\n",
       "<style scoped>\n",
       "    .dataframe tbody tr th:only-of-type {\n",
       "        vertical-align: middle;\n",
       "    }\n",
       "\n",
       "    .dataframe tbody tr th {\n",
       "        vertical-align: top;\n",
       "    }\n",
       "\n",
       "    .dataframe thead th {\n",
       "        text-align: right;\n",
       "    }\n",
       "</style>\n",
       "<table border=\"1\" class=\"dataframe\">\n",
       "  <thead>\n",
       "    <tr style=\"text-align: right;\">\n",
       "      <th></th>\n",
       "      <th>Tweet</th>\n",
       "      <th>Class</th>\n",
       "    </tr>\n",
       "  </thead>\n",
       "  <tbody>\n",
       "    <tr>\n",
       "      <th>0</th>\n",
       "      <td>میں نے ایٹم بم بنایا ھے ۔۔۔۔او بھائی ایٹم بمب ...</td>\n",
       "      <td>1.0</td>\n",
       "    </tr>\n",
       "    <tr>\n",
       "      <th>1</th>\n",
       "      <td>چندے سے انقلاب اور عمران خان وزیر اعظم نہیں بن...</td>\n",
       "      <td>0.0</td>\n",
       "    </tr>\n",
       "    <tr>\n",
       "      <th>3</th>\n",
       "      <td>سرچ انجن گوگل کے نائب صدر نے فضا میں ، 130,000...</td>\n",
       "      <td>1.0</td>\n",
       "    </tr>\n",
       "    <tr>\n",
       "      <th>4</th>\n",
       "      <td>ابھی تک اسکی لہریں کبھی کبھی آ جاتی ہیں یار :أْ</td>\n",
       "      <td>1.0</td>\n",
       "    </tr>\n",
       "    <tr>\n",
       "      <th>5</th>\n",
       "      <td>گندی زبان اور گٹر جیسے دماغ والے جاهل جیالے ه...</td>\n",
       "      <td>0.0</td>\n",
       "    </tr>\n",
       "    <tr>\n",
       "      <th>...</th>\n",
       "      <td>...</td>\n",
       "      <td>...</td>\n",
       "    </tr>\n",
       "    <tr>\n",
       "      <th>995</th>\n",
       "      <td>اُس آدمی نے اِس سالار کو کافی معقول ٹپ دی ہے ۔</td>\n",
       "      <td>1.0</td>\n",
       "    </tr>\n",
       "    <tr>\n",
       "      <th>996</th>\n",
       "      <td>چچا غالب کی روح سے معذرت کے ساتھہم نے مانا کہ ...</td>\n",
       "      <td>1.0</td>\n",
       "    </tr>\n",
       "    <tr>\n",
       "      <th>997</th>\n",
       "      <td>واہ جناب واہ! اچھی رہی۔ جناب خود کو فرشتہ سمجو...</td>\n",
       "      <td>1.0</td>\n",
       "    </tr>\n",
       "    <tr>\n",
       "      <th>998</th>\n",
       "      <td>اسلام آباد :پی اے ٹی کا دھرنا ختم، صفائی کے کا...</td>\n",
       "      <td>1.0</td>\n",
       "    </tr>\n",
       "    <tr>\n",
       "      <th>999</th>\n",
       "      <td>دنیا نے کس کا راہ وفا میں دیا ہے ساتھتم بھی چل...</td>\n",
       "      <td>1.0</td>\n",
       "    </tr>\n",
       "  </tbody>\n",
       "</table>\n",
       "<p>979 rows × 2 columns</p>\n",
       "</div>"
      ],
      "text/plain": [
       "                                                 Tweet  Class\n",
       "0    میں نے ایٹم بم بنایا ھے ۔۔۔۔او بھائی ایٹم بمب ...    1.0\n",
       "1    چندے سے انقلاب اور عمران خان وزیر اعظم نہیں بن...    0.0\n",
       "3    سرچ انجن گوگل کے نائب صدر نے فضا میں ، 130,000...    1.0\n",
       "4      ابھی تک اسکی لہریں کبھی کبھی آ جاتی ہیں یار :أْ    1.0\n",
       "5     گندی زبان اور گٹر جیسے دماغ والے جاهل جیالے ه...    0.0\n",
       "..                                                 ...    ...\n",
       "995     اُس آدمی نے اِس سالار کو کافی معقول ٹپ دی ہے ۔    1.0\n",
       "996  چچا غالب کی روح سے معذرت کے ساتھہم نے مانا کہ ...    1.0\n",
       "997  واہ جناب واہ! اچھی رہی۔ جناب خود کو فرشتہ سمجو...    1.0\n",
       "998  اسلام آباد :پی اے ٹی کا دھرنا ختم، صفائی کے کا...    1.0\n",
       "999  دنیا نے کس کا راہ وفا میں دیا ہے ساتھتم بھی چل...    1.0\n",
       "\n",
       "[979 rows x 2 columns]"
      ]
     },
     "execution_count": 1,
     "metadata": {},
     "output_type": "execute_result"
    }
   ],
   "source": [
    "import numpy as np\n",
    "import pandas as pd\n",
    "from sklearn.model_selection import train_test_split\n",
    "from sklearn.metrics import accuracy_score, precision_score, recall_score, f1_score\n",
    "from keras.preprocessing.text import Tokenizer\n",
    "from keras.preprocessing.sequence import pad_sequences\n",
    "from keras.models import Sequential\n",
    "from keras.layers import Embedding, SimpleRNN, GRU, LSTM, Bidirectional, Dense, Dropout\n",
    "\n",
    "df = pd.read_csv('urdu-sentiment-corpus-v1.tsv', delimiter='\\t')\n",
    "df.columns = ['Tweet', 'Class']\n",
    "df['Class'] = df['Class'].map({'P': 1, 'N': 0})\n",
    "df = df.dropna()\n",
    "df"
   ]
  },
  {
   "cell_type": "code",
   "execution_count": 2,
   "metadata": {},
   "outputs": [],
   "source": [
    "X = df['Tweet'].values\n",
    "y = df['Class'].values\n",
    "\n",
    "X_train, X_test, y_train, y_test = train_test_split(X, y, test_size=0.25)\n",
    "\n",
    "tokenizer = Tokenizer()\n",
    "tokenizer.fit_on_texts(X_train)\n",
    "\n",
    "X_train_seq = tokenizer.texts_to_sequences(X_train)\n",
    "X_test_seq = tokenizer.texts_to_sequences(X_test)\n",
    "\n",
    "max_sequence_length = max([len(seq) for seq in X_train_seq + X_test_seq])\n",
    "vocab_size = len(tokenizer.word_index) + 1\n",
    "\n",
    "X_train_padded = pad_sequences(X_train_seq, maxlen=max_sequence_length, padding='post')\n",
    "X_test_padded = pad_sequences(X_test_seq, maxlen=max_sequence_length, padding='post')\n"
   ]
  },
  {
   "cell_type": "code",
   "execution_count": 3,
   "metadata": {},
   "outputs": [],
   "source": [
    "def create_model(model_type, num_layers, dropout_rate):\n",
    "    model = Sequential()\n",
    "    model.add(Embedding(vocab_size, 100, input_length=max_sequence_length))\n",
    "    \n",
    "    if model_type == 'RNN':\n",
    "        for _ in range(num_layers):\n",
    "            model.add(SimpleRNN(64, return_sequences=True))\n",
    "        model.add(SimpleRNN(64))\n",
    "    elif model_type == 'GRU':\n",
    "        for _ in range(num_layers):\n",
    "            model.add(GRU(64, return_sequences=True))\n",
    "        model.add(GRU(64))\n",
    "    elif model_type == 'LSTM':\n",
    "        for _ in range(num_layers):\n",
    "            model.add(LSTM(64, return_sequences=True))\n",
    "        model.add(LSTM(64))\n",
    "    elif model_type == 'BiLSTM':\n",
    "        for _ in range(num_layers):\n",
    "            model.add(Bidirectional(LSTM(64, return_sequences=True)))\n",
    "        model.add(Bidirectional(LSTM(64)))\n",
    "    \n",
    "    model.add(Dropout(dropout_rate))\n",
    "    model.add(Dense(1, activation='sigmoid'))\n",
    "    \n",
    "    return model"
   ]
  },
  {
   "cell_type": "code",
   "execution_count": 4,
   "metadata": {},
   "outputs": [
    {
     "name": "stdout",
     "output_type": "stream",
     "text": [
      "Training RNN with 2 layers and dropout 0.3...\n",
      "8/8 [==============================] - 1s 9ms/step\n",
      "Training RNN with 2 layers and dropout 0.7...\n",
      "8/8 [==============================] - 0s 6ms/step\n",
      "Training RNN with 3 layers and dropout 0.3...\n",
      "8/8 [==============================] - 1s 9ms/step\n",
      "Training RNN with 3 layers and dropout 0.7...\n",
      "8/8 [==============================] - 1s 8ms/step\n",
      "Training GRU with 2 layers and dropout 0.3...\n",
      "8/8 [==============================] - 1s 12ms/step\n",
      "Training GRU with 2 layers and dropout 0.7...\n"
     ]
    },
    {
     "name": "stderr",
     "output_type": "stream",
     "text": [
      "C:\\Users\\DURRANI\\AppData\\Roaming\\Python\\Python311\\site-packages\\sklearn\\metrics\\_classification.py:1469: UndefinedMetricWarning: Precision is ill-defined and being set to 0.0 due to no predicted samples. Use `zero_division` parameter to control this behavior.\n",
      "  _warn_prf(average, modifier, msg_start, len(result))\n"
     ]
    },
    {
     "name": "stdout",
     "output_type": "stream",
     "text": [
      "8/8 [==============================] - 1s 16ms/step\n",
      "Training GRU with 3 layers and dropout 0.3...\n"
     ]
    },
    {
     "name": "stderr",
     "output_type": "stream",
     "text": [
      "C:\\Users\\DURRANI\\AppData\\Roaming\\Python\\Python311\\site-packages\\sklearn\\metrics\\_classification.py:1469: UndefinedMetricWarning: Precision is ill-defined and being set to 0.0 due to no predicted samples. Use `zero_division` parameter to control this behavior.\n",
      "  _warn_prf(average, modifier, msg_start, len(result))\n"
     ]
    },
    {
     "name": "stdout",
     "output_type": "stream",
     "text": [
      "8/8 [==============================] - 2s 21ms/step\n",
      "Training GRU with 3 layers and dropout 0.7...\n"
     ]
    },
    {
     "name": "stderr",
     "output_type": "stream",
     "text": [
      "C:\\Users\\DURRANI\\AppData\\Roaming\\Python\\Python311\\site-packages\\sklearn\\metrics\\_classification.py:1469: UndefinedMetricWarning: Precision is ill-defined and being set to 0.0 due to no predicted samples. Use `zero_division` parameter to control this behavior.\n",
      "  _warn_prf(average, modifier, msg_start, len(result))\n"
     ]
    },
    {
     "name": "stdout",
     "output_type": "stream",
     "text": [
      "8/8 [==============================] - 2s 16ms/step\n",
      "Training LSTM with 2 layers and dropout 0.3...\n"
     ]
    },
    {
     "name": "stderr",
     "output_type": "stream",
     "text": [
      "C:\\Users\\DURRANI\\AppData\\Roaming\\Python\\Python311\\site-packages\\sklearn\\metrics\\_classification.py:1469: UndefinedMetricWarning: Precision is ill-defined and being set to 0.0 due to no predicted samples. Use `zero_division` parameter to control this behavior.\n",
      "  _warn_prf(average, modifier, msg_start, len(result))\n"
     ]
    },
    {
     "name": "stdout",
     "output_type": "stream",
     "text": [
      "8/8 [==============================] - 1s 17ms/step\n",
      "Training LSTM with 2 layers and dropout 0.7...\n",
      "8/8 [==============================] - 1s 18ms/step\n",
      "Training LSTM with 3 layers and dropout 0.3...\n",
      "8/8 [==============================] - 2s 23ms/step\n",
      "Training LSTM with 3 layers and dropout 0.7...\n",
      "8/8 [==============================] - 2s 28ms/step\n",
      "Training BiLSTM with 2 layers and dropout 0.3...\n",
      "8/8 [==============================] - 3s 35ms/step\n",
      "Training BiLSTM with 2 layers and dropout 0.7...\n",
      "8/8 [==============================] - 3s 37ms/step\n",
      "Training BiLSTM with 3 layers and dropout 0.3...\n",
      "8/8 [==============================] - 4s 57ms/step\n",
      "Training BiLSTM with 3 layers and dropout 0.7...\n",
      "8/8 [==============================] - 4s 65ms/step\n"
     ]
    }
   ],
   "source": [
    "results = []\n",
    "\n",
    "for model_type in ['RNN', 'GRU', 'LSTM', 'BiLSTM']:\n",
    "    for num_layers in [2, 3]:\n",
    "        for dropout_rate in [0.3, 0.7]:\n",
    "            print(f\"Training {model_type} with {num_layers} layers and dropout {dropout_rate}...\")\n",
    "            model = create_model(model_type, num_layers, dropout_rate)\n",
    "            model.compile(optimizer='adam', loss='binary_crossentropy', metrics=['accuracy'])\n",
    "            model.fit(X_train_padded, y_train, epochs=5, batch_size=64, verbose=0)\n",
    "            y_pred = np.round(model.predict(X_test_padded))\n",
    "\n",
    "            accuracy = accuracy_score(y_test, y_pred)\n",
    "            precision = precision_score(y_test, y_pred)\n",
    "            recall = recall_score(y_test, y_pred)\n",
    "            f1 = f1_score(y_test, y_pred)\n",
    "\n",
    "            results.append({\n",
    "                'Model': model_type,\n",
    "                'Num Layers': num_layers,\n",
    "                'Dropout': dropout_rate,\n",
    "                'Accuracy': accuracy,\n",
    "                'Precision': precision,\n",
    "                'Recall': recall,\n",
    "                'F1': f1\n",
    "            })"
   ]
  },
  {
   "cell_type": "code",
   "execution_count": 5,
   "metadata": {},
   "outputs": [
    {
     "name": "stdout",
     "output_type": "stream",
     "text": [
      "     Model  Num Layers  Dropout  Accuracy  Precision    Recall        F1\n",
      "0      RNN           2      0.3  0.506122   0.511628  0.532258  0.521739\n",
      "1      RNN           2      0.7  0.457143   0.458716  0.403226  0.429185\n",
      "2      RNN           3      0.3  0.510204   0.518182  0.459677  0.487179\n",
      "3      RNN           3      0.7  0.473469   0.477477  0.427419  0.451064\n",
      "4      GRU           2      0.3  0.493878   0.000000  0.000000  0.000000\n",
      "5      GRU           2      0.7  0.493878   0.000000  0.000000  0.000000\n",
      "6      GRU           3      0.3  0.493878   0.000000  0.000000  0.000000\n",
      "7      GRU           3      0.7  0.493878   0.000000  0.000000  0.000000\n",
      "8     LSTM           2      0.3  0.640816   0.628571  0.709677  0.666667\n",
      "9     LSTM           2      0.7  0.636735   0.606061  0.806452  0.692042\n",
      "10    LSTM           3      0.3  0.591837   0.558252  0.927419  0.696970\n",
      "11    LSTM           3      0.7  0.636735   0.733333  0.443548  0.552764\n",
      "12  BiLSTM           2      0.3  0.624490   0.615942  0.685484  0.648855\n",
      "13  BiLSTM           2      0.7  0.661224   0.658915  0.685484  0.671937\n",
      "14  BiLSTM           3      0.3  0.624490   0.585106  0.887097  0.705128\n",
      "15  BiLSTM           3      0.7  0.665306   0.643836  0.758065  0.696296\n"
     ]
    }
   ],
   "source": [
    "results_df = pd.DataFrame(results)\n",
    "print(results_df)"
   ]
  },
  {
   "cell_type": "code",
   "execution_count": null,
   "metadata": {},
   "outputs": [],
   "source": []
  }
 ],
 "metadata": {
  "kernelspec": {
   "display_name": "Python 3",
   "language": "python",
   "name": "python3"
  },
  "language_info": {
   "codemirror_mode": {
    "name": "ipython",
    "version": 3
   },
   "file_extension": ".py",
   "mimetype": "text/x-python",
   "name": "python",
   "nbconvert_exporter": "python",
   "pygments_lexer": "ipython3",
   "version": "3.11.4"
  }
 },
 "nbformat": 4,
 "nbformat_minor": 2
}
